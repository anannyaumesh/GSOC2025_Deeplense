{
 "cells": [
  {
   "cell_type": "code",
   "execution_count": 2,
   "metadata": {},
   "outputs": [],
   "source": [
    "import os\n",
    "import numpy as np\n",
    "import torch\n",
    "import torch.nn as nn\n",
    "import torch.optim as optim\n",
    "import torch.nn.functional as F\n",
    "import torchvision.transforms as transforms\n",
    "import matplotlib.pyplot as plt\n",
    "import seaborn as sns\n",
    "from torch.utils.data import DataLoader, random_split, WeightedRandomSampler\n",
    "from torchvision import models\n",
    "from sklearn.metrics import roc_auc_score, classification_report\n",
    "from torch.utils.data import DataLoader, Dataset, random_split"
   ]
  },
  {
   "cell_type": "code",
   "execution_count": 19,
   "metadata": {},
   "outputs": [],
   "source": [
    "class LensDataset(Dataset):\n",
    "    def __init__(self, lens_dir, nonlens_dir, transform=None):\n",
    "        self.transform = transform\n",
    "        self.data = []\n",
    "        self.labels = []\n",
    "\n",
    "        # Load Lensed Images (Label = 1)\n",
    "        for file in os.listdir(lens_dir):\n",
    "            img = np.load(os.path.join(lens_dir, file))\n",
    "            self.data.append(img)\n",
    "            self.labels.append(1)\n",
    "\n",
    "        # Load Non-Lensed Images (Label = 0)\n",
    "        for file in os.listdir(nonlens_dir):\n",
    "            img = np.load(os.path.join(nonlens_dir, file))\n",
    "            self.data.append(img)\n",
    "            self.labels.append(0)\n",
    "\n",
    "        # Convert to NumPy array\n",
    "        self.data = np.array(self.data)\n",
    "        self.labels = np.array(self.labels)\n",
    "\n",
    "    def __len__(self):\n",
    "        return len(self.data)\n",
    "\n",
    "    def __getitem__(self, idx):\n",
    "        img = self.data[idx]\n",
    "        label = self.labels[idx]\n",
    "\n",
    "        # Convert to tensor\n",
    "        img = torch.tensor(img, dtype=torch.float32)\n",
    "\n",
    "        if self.transform:\n",
    "            img = self.transform(img)\n",
    "\n",
    "        return img, label\n"
   ]
  },
  {
   "cell_type": "code",
   "execution_count": 4,
   "metadata": {},
   "outputs": [
    {
     "name": "stdout",
     "output_type": "stream",
     "text": [
      "Train samples: 27364, Validation samples: 3041, Test samples: 19650\n"
     ]
    }
   ],
   "source": [
    "# Define dataset paths\n",
    "data_root = \"C:\\\\Users\\\\DTSC302\\\\Desktop\\\\Anannya\\\\gsoc\\\\lens-finding-test\"\n",
    "train_lens_dir = os.path.join(data_root, \"train_lenses\")\n",
    "train_nonlens_dir = os.path.join(data_root, \"train_nonlenses\")\n",
    "test_lens_dir = os.path.join(data_root, \"test_lenses\")\n",
    "test_nonlens_dir = os.path.join(data_root, \"test_nonlenses\")\n",
    "\n",
    "# Load datasets\n",
    "dataset = LensDataset(train_lens_dir, train_nonlens_dir)\n",
    "test_dataset = LensDataset(test_lens_dir, test_nonlens_dir)\n",
    "\n",
    "# Split into Train (90%) and Validation (10%)\n",
    "train_size = int(0.9 * len(dataset))\n",
    "val_size = len(dataset) - train_size\n",
    "train_dataset, val_dataset = random_split(dataset, [train_size, val_size])\n",
    "\n",
    "print(f\"Train samples: {len(train_dataset)}, Validation samples: {len(val_dataset)}, Test samples: {len(test_dataset)}\")\n"
   ]
  },
  {
   "cell_type": "code",
   "execution_count": 21,
   "metadata": {},
   "outputs": [],
   "source": [
    "transform = transforms.Compose([\n",
    "    transforms.RandomHorizontalFlip(),\n",
    "    transforms.RandomRotation(10),\n",
    "    transforms.ColorJitter(brightness=0.2, contrast=0.2),\n",
    "    transforms.RandomResizedCrop(64, scale=(0.8, 1.0)),\n",
    "    transforms.Lambda(lambda x: x.astype(np.uint8)),  # Ensure NumPy format\n",
    "    transforms.ToTensor(),\n",
    "    transforms.Normalize(mean=[0.5], std=[0.5])  # Normalization\n",
    "])\n",
    "dataset = LensDataset(train_lens_dir, train_nonlens_dir, transform=transform)\n",
    "\n"
   ]
  },
  {
   "cell_type": "code",
   "execution_count": 6,
   "metadata": {},
   "outputs": [],
   "source": [
    "# Define class weights for imbalanced data\n",
    "class_counts = np.bincount(dataset.labels)\n",
    "batch_size = 64\n",
    "\n",
    "from torch.utils.data import SubsetRandomSampler\n",
    "\n",
    "# Get indices of both classes\n",
    "lens_indices = [i for i, label in enumerate(dataset.labels) if label == 1]\n",
    "nonlens_indices = [i for i, label in enumerate(dataset.labels) if label == 0]\n",
    "\n",
    "# Oversample the minority class\n",
    "oversampled_lens_indices = np.random.choice(lens_indices, size=len(nonlens_indices), replace=True)\n",
    "balanced_indices = np.concatenate([oversampled_lens_indices, nonlens_indices])\n",
    "\n",
    "# Create a new sampler\n",
    "balanced_sampler = SubsetRandomSampler(balanced_indices)\n",
    "train_loader = DataLoader(train_dataset, batch_size=batch_size, sampler=balanced_sampler)\n"
   ]
  },
  {
   "cell_type": "code",
   "execution_count": 7,
   "metadata": {},
   "outputs": [],
   "source": [
    "\n",
    "\n",
    "train_loader = DataLoader(train_dataset, batch_size=batch_size, shuffle=True)\n",
    "val_loader = DataLoader(val_dataset, batch_size=batch_size, shuffle=False)\n",
    "test_loader = DataLoader(test_dataset, batch_size=batch_size, shuffle=False)\n"
   ]
  },
  {
   "cell_type": "code",
   "execution_count": 8,
   "metadata": {},
   "outputs": [
    {
     "name": "stdout",
     "output_type": "stream",
     "text": [
      "Number of training samples: 27364\n",
      "Number of validation samples: 3041\n",
      "Number of test samples: 19650\n"
     ]
    }
   ],
   "source": [
    "# Preliminary EDA\n",
    "print(\"Number of training samples:\", len(train_dataset))\n",
    "print(\"Number of validation samples:\", len(val_dataset))\n",
    "print(\"Number of test samples:\", len(test_dataset))"
   ]
  },
  {
   "cell_type": "code",
   "execution_count": 17,
   "metadata": {},
   "outputs": [
    {
     "data": {
      "image/png": "[encoded data removed]",
      "text/plain": [
       "<Figure size 640x480 with 1 Axes>"
      ]
     },
     "metadata": {},
     "output_type": "display_data"
    }
   ],
   "source": [
    "# Visualizing class distribution\n",
    "sns.barplot(x=['Non-Lenses', 'Lenses'], y=class_counts)\n",
    "plt.xlabel(\"Class\")\n",
    "plt.ylabel(\"Number of Samples\")\n",
    "plt.title(\"Class Distribution in Dataset\")\n",
    "plt.show()"
   ]
  },
  {
   "cell_type": "code",
   "execution_count": 11,
   "metadata": {},
   "outputs": [],
   "source": [
    "# Define ResNet-18 Model\n",
    "class ResNet18Classifier(nn.Module):\n",
    "    def __init__(self):\n",
    "        super(ResNet18Classifier, self).__init__()\n",
    "        self.model = models.resnet18(pretrained=True)\n",
    "        self.model.fc = nn.Linear(self.model.fc.in_features, 2)\n",
    "    \n",
    "    def forward(self, x):\n",
    "        return self.model(x)"
   ]
  },
  {
   "cell_type": "code",
   "execution_count": 12,
   "metadata": {},
   "outputs": [
    {
     "name": "stderr",
     "output_type": "stream",
     "text": [
      "c:\\Users\\DTSC302\\Desktop\\Anannya\\myenv\\lib\\site-packages\\torchvision\\models\\_utils.py:208: UserWarning: The parameter 'pretrained' is deprecated since 0.13 and may be removed in the future, please use 'weights' instead.\n",
      "  warnings.warn(\n",
      "c:\\Users\\DTSC302\\Desktop\\Anannya\\myenv\\lib\\site-packages\\torchvision\\models\\_utils.py:223: UserWarning: Arguments other than a weight enum or `None` for 'weights' are deprecated since 0.13 and may be removed in the future. The current behavior is equivalent to passing `weights=ResNet18_Weights.IMAGENET1K_V1`. You can also use `weights=ResNet18_Weights.DEFAULT` to get the most up-to-date weights.\n",
      "  warnings.warn(msg)\n"
     ]
    }
   ],
   "source": [
    "# Model setup\n",
    "device = torch.device(\"cuda\" if torch.cuda.is_available() else \"cpu\")\n",
    "model = ResNet18Classifier().to(device)\n",
    "\n",
    "optimizer = optim.Adam(model.parameters(), lr=0.001)\n",
    "\n",
    "class_counts = np.bincount(dataset.labels)\n",
    "class_weights = torch.tensor(1.0 / class_counts, dtype=torch.float32).to(device)\n",
    "criterion = nn.CrossEntropyLoss(weight=class_weights)\n"
   ]
  },
  {
   "cell_type": "code",
   "execution_count": 13,
   "metadata": {},
   "outputs": [
    {
     "name": "stdout",
     "output_type": "stream",
     "text": [
      "Epoch 1/10, Loss: 0.3291\n",
      "Epoch 2/10, Loss: 0.2191\n",
      "Epoch 3/10, Loss: 0.2005\n",
      "Epoch 4/10, Loss: 0.1803\n",
      "Epoch 5/10, Loss: 0.3053\n",
      "Epoch 6/10, Loss: 0.2755\n",
      "Epoch 7/10, Loss: 0.2043\n",
      "Epoch 8/10, Loss: 0.1854\n",
      "Epoch 9/10, Loss: 0.1478\n",
      "Epoch 10/10, Loss: 0.1363\n"
     ]
    }
   ],
   "source": [
    "# Training loop\n",
    "epochs = 10\n",
    "for epoch in range(epochs):\n",
    "    model.train()\n",
    "    running_loss = 0.0\n",
    "    for images, labels in train_loader:\n",
    "        images, labels = images.to(device), labels.to(device)\n",
    "        optimizer.zero_grad()\n",
    "        outputs = model(images)\n",
    "        loss = criterion(outputs, labels)\n",
    "        loss.backward()\n",
    "        optimizer.step()\n",
    "        running_loss += loss.item()\n",
    "    \n",
    "    print(f\"Epoch {epoch+1}/{epochs}, Loss: {running_loss/len(train_loader):.4f}\")"
   ]
  },
  {
   "cell_type": "code",
   "execution_count": 14,
   "metadata": {},
   "outputs": [
    {
     "name": "stdout",
     "output_type": "stream",
     "text": [
      "Validation ROC-AUC: 0.9792\n"
     ]
    }
   ],
   "source": [
    "# Validation\n",
    "model.eval()\n",
    "val_labels = []\n",
    "val_preds = []\n",
    "with torch.no_grad():\n",
    "    for images, labels in val_loader:\n",
    "        images, labels = images.to(device), labels.to(device)\n",
    "        outputs = model(images)\n",
    "        probs = F.softmax(outputs, dim=1)[:, 1]\n",
    "        val_preds.extend(probs.cpu().numpy())\n",
    "        val_labels.extend(labels.cpu().numpy())\n",
    "\n",
    "roc_auc = roc_auc_score(val_labels, val_preds)\n",
    "print(f\"Validation ROC-AUC: {roc_auc:.4f}\")"
   ]
  },
  {
   "cell_type": "code",
   "execution_count": 15,
   "metadata": {},
   "outputs": [
    {
     "name": "stdout",
     "output_type": "stream",
     "text": [
      "Classification Report:\n",
      "              precision    recall  f1-score   support\n",
      "\n",
      "           0       1.00      0.90      0.95     19455\n",
      "           1       0.09      0.92      0.16       195\n",
      "\n",
      "    accuracy                           0.90     19650\n",
      "   macro avg       0.54      0.91      0.56     19650\n",
      "weighted avg       0.99      0.90      0.94     19650\n",
      "\n"
     ]
    }
   ],
   "source": [
    "# Test Classification Report\n",
    "test_labels = []\n",
    "test_preds = []\n",
    "with torch.no_grad():\n",
    "    for images, labels in test_loader:\n",
    "        images, labels = images.to(device), labels.to(device)\n",
    "        outputs = model(images)\n",
    "        _, preds = torch.max(outputs, 1)\n",
    "        test_preds.extend(preds.cpu().numpy())\n",
    "        test_labels.extend(labels.cpu().numpy())\n",
    "\n",
    "print(\"Classification Report:\")\n",
    "print(classification_report(test_labels, test_preds))\n"
   ]
  },
  {
   "cell_type": "code",
   "execution_count": 16,
   "metadata": {},
   "outputs": [
    {
     "data": {
      "image/png": "[encoded data removed]",
      "text/plain": [
       "<Figure size 600x500 with 2 Axes>"
      ]
     },
     "metadata": {},
     "output_type": "display_data"
    }
   ],
   "source": [
    "from sklearn.metrics import confusion_matrix\n",
    "import seaborn as sns\n",
    "import matplotlib.pyplot as plt\n",
    "\n",
    "# Compute confusion matrix\n",
    "cm = confusion_matrix(test_labels, test_preds)\n",
    "\n",
    "# Plot confusion matrix\n",
    "plt.figure(figsize=(6, 5))\n",
    "sns.heatmap(cm, annot=True, fmt=\"d\", cmap=\"Blues\", xticklabels=[\"Non-Lensed\", \"Lensed\"], yticklabels=[\"Non-Lensed\", \"Lensed\"])\n",
    "plt.xlabel(\"Predicted Label\")\n",
    "plt.ylabel(\"True Label\")\n",
    "plt.title(\"Confusion Matrix\")\n",
    "plt.show()\n"
   ]
  },
  {
   "cell_type": "code",
   "execution_count": null,
   "metadata": {},
   "outputs": [],
   "source": [
    "# Save model weights\n",
    "torch.save(model.state_dict(), \"attempt3.pth\")"
   ]
  }
 ],
 "metadata": {
  "kernelspec": {
   "display_name": "myenv",
   "language": "python",
   "name": "python3"
  },
  "language_info": {
   "codemirror_mode": {
    "name": "ipython",
    "version": 3
   },
   "file_extension": ".py",
   "mimetype": "text/x-python",
   "name": "python",
   "nbconvert_exporter": "python",
   "pygments_lexer": "ipython3",
   "version": "3.10.8"
  }
 },
 "nbformat": 4,
 "nbformat_minor": 2
}
