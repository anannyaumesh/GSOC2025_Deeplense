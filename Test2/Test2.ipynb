{
 "cells": [
  {
   "cell_type": "code",
   "execution_count": 3,
   "metadata": {},
   "outputs": [],
   "source": [
    "import os\n",
    "import numpy as np\n",
    "import torch\n",
    "import torch.nn as nn\n",
    "import torch.optim as optim\n",
    "import torch.nn.functional as F\n",
    "import torchvision.transforms as transforms\n",
    "import matplotlib.pyplot as plt\n",
    "import seaborn as sns\n",
    "from torch.utils.data import DataLoader, random_split, WeightedRandomSampler\n",
    "from torchvision import models\n",
    "from sklearn.metrics import roc_auc_score, classification_report\n",
    "from torch.utils.data import DataLoader, Dataset, random_split"
   ]
  },
  {
   "cell_type": "code",
   "execution_count": 4,
   "metadata": {},
   "outputs": [],
   "source": [
    "class LensDataset(Dataset):\n",
    "    def __init__(self, lens_dir, nonlens_dir, transform=None):\n",
    "        self.transform = transform\n",
    "        self.data = []\n",
    "        self.labels = []\n",
    "\n",
    "        # Load Lensed Images (Label = 1)\n",
    "        for file in os.listdir(lens_dir):\n",
    "            img = np.load(os.path.join(lens_dir, file))\n",
    "            self.data.append(img)\n",
    "            self.labels.append(1)\n",
    "\n",
    "        # Load Non-Lensed Images (Label = 0)\n",
    "        for file in os.listdir(nonlens_dir):\n",
    "            img = np.load(os.path.join(nonlens_dir, file))\n",
    "            self.data.append(img)\n",
    "            self.labels.append(0)\n",
    "\n",
    "        # Convert to NumPy array\n",
    "        self.data = np.array(self.data)\n",
    "        self.labels = np.array(self.labels)\n",
    "\n",
    "    def __len__(self):\n",
    "        return len(self.data)\n",
    "\n",
    "    def __getitem__(self, idx):\n",
    "        img = self.data[idx]\n",
    "        label = self.labels[idx]\n",
    "\n",
    "        # Convert to tensor\n",
    "        img = torch.tensor(img, dtype=torch.float32)\n",
    "\n",
    "        if self.transform:\n",
    "            img = self.transform(img)\n",
    "\n",
    "        return img, label\n"
   ]
  },
  {
   "cell_type": "code",
   "execution_count": 5,
   "metadata": {},
   "outputs": [
    {
     "name": "stdout",
     "output_type": "stream",
     "text": [
      "Train samples: 27364, Validation samples: 3041, Test samples: 19650\n"
     ]
    }
   ],
   "source": [
    "# Define dataset paths\n",
    "data_root = \"C:\\\\Users\\\\DTSC302\\\\Desktop\\\\Anannya\\\\gsoc\\\\lens-finding-test\"\n",
    "train_lens_dir = os.path.join(data_root, \"train_lenses\")\n",
    "train_nonlens_dir = os.path.join(data_root, \"train_nonlenses\")\n",
    "test_lens_dir = os.path.join(data_root, \"test_lenses\")\n",
    "test_nonlens_dir = os.path.join(data_root, \"test_nonlenses\")\n",
    "\n",
    "# Load datasets\n",
    "dataset = LensDataset(train_lens_dir, train_nonlens_dir)\n",
    "test_dataset = LensDataset(test_lens_dir, test_nonlens_dir)\n",
    "\n",
    "# Split into Train (90%) and Validation (10%)\n",
    "train_size = int(0.9 * len(dataset))\n",
    "val_size = len(dataset) - train_size\n",
    "train_dataset, val_dataset = random_split(dataset, [train_size, val_size])\n",
    "\n",
    "print(f\"Train samples: {len(train_dataset)}, Validation samples: {len(val_dataset)}, Test samples: {len(test_dataset)}\")\n"
   ]
  },
  {
   "cell_type": "code",
   "execution_count": 6,
   "metadata": {},
   "outputs": [],
   "source": [
    "transform = transforms.Compose([\n",
    "    transforms.RandomHorizontalFlip(),\n",
    "    transforms.RandomRotation(10),\n",
    "    transforms.ColorJitter(brightness=0.2, contrast=0.2),\n",
    "    transforms.RandomResizedCrop(64, scale=(0.8, 1.0)),\n",
    "    transforms.ToTensor()\n",
    "])\n",
    "dataset = LensDataset(train_lens_dir, train_nonlens_dir, transform=transform)\n"
   ]
  },
  {
   "cell_type": "code",
   "execution_count": 7,
   "metadata": {},
   "outputs": [],
   "source": [
    "# Define class weights for imbalanced data\n",
    "class_counts = np.bincount(dataset.labels)\n",
    "batch_size = 64\n",
    "\n",
    "from torch.utils.data import SubsetRandomSampler\n",
    "\n",
    "# Get indices of both classes\n",
    "lens_indices = [i for i, label in enumerate(dataset.labels) if label == 1]\n",
    "nonlens_indices = [i for i, label in enumerate(dataset.labels) if label == 0]\n",
    "\n",
    "# Reduce oversampling ratio (e.g., 1:3 instead of 1:1)\n",
    "oversampling_ratio = 5\n",
    "\n",
    "oversampled_lens_indices = np.random.choice(\n",
    "    lens_indices, size=len(nonlens_indices) // oversampling_ratio, replace=True\n",
    ")\n",
    "balanced_indices = np.concatenate([oversampled_lens_indices, nonlens_indices])\n",
    "\n",
    "# Use SubsetRandomSampler with adjusted oversampling\n",
    "balanced_sampler = SubsetRandomSampler(balanced_indices)\n",
    "train_loader = DataLoader(train_dataset, batch_size=batch_size, sampler=balanced_sampler)\n"
   ]
  },
  {
   "cell_type": "code",
   "execution_count": 8,
   "metadata": {},
   "outputs": [],
   "source": [
    "train_loader = DataLoader(train_dataset, batch_size=batch_size, shuffle=True)\n",
    "val_loader = DataLoader(val_dataset, batch_size=batch_size, shuffle=False)\n",
    "test_loader = DataLoader(test_dataset, batch_size=batch_size, shuffle=False)"
   ]
  },
  {
   "cell_type": "code",
   "execution_count": 9,
   "metadata": {},
   "outputs": [
    {
     "name": "stdout",
     "output_type": "stream",
     "text": [
      "Number of training samples: 27364\n",
      "Number of validation samples: 3041\n",
      "Number of test samples: 19650\n"
     ]
    }
   ],
   "source": [
    "# Preliminary EDA\n",
    "print(\"Number of training samples:\", len(train_dataset))\n",
    "print(\"Number of validation samples:\", len(val_dataset))\n",
    "print(\"Number of test samples:\", len(test_dataset))"
   ]
  },
  {
   "cell_type": "code",
   "execution_count": 10,
   "metadata": {},
   "outputs": [
    {
     "data": {
      "image/png": "[encoded data removed]",
      "text/plain": [
       "<Figure size 640x480 with 1 Axes>"
      ]
     },
     "metadata": {},
     "output_type": "display_data"
    }
   ],
   "source": [
    "# Visualizing class distribution\n",
    "sns.barplot(x=['Non-Lenses', 'Lenses'], y=class_counts)\n",
    "plt.xlabel(\"Class\")\n",
    "plt.ylabel(\"Number of Samples\")\n",
    "plt.title(\"Class Distribution in Dataset\")\n",
    "plt.show()"
   ]
  },
  {
   "cell_type": "code",
   "execution_count": 11,
   "metadata": {},
   "outputs": [
    {
     "name": "stderr",
     "output_type": "stream",
     "text": [
      "c:\\Users\\DTSC302\\Desktop\\Anannya\\myenv\\lib\\site-packages\\torchvision\\models\\_utils.py:208: UserWarning: The parameter 'pretrained' is deprecated since 0.13 and may be removed in the future, please use 'weights' instead.\n",
      "  warnings.warn(\n",
      "c:\\Users\\DTSC302\\Desktop\\Anannya\\myenv\\lib\\site-packages\\torchvision\\models\\_utils.py:223: UserWarning: Arguments other than a weight enum or `None` for 'weights' are deprecated since 0.13 and may be removed in the future. The current behavior is equivalent to passing `weights=ResNet34_Weights.IMAGENET1K_V1`. You can also use `weights=ResNet34_Weights.DEFAULT` to get the most up-to-date weights.\n",
      "  warnings.warn(msg)\n"
     ]
    }
   ],
   "source": [
    "# Define ResNet-34 Model\n",
    "# Set device (GPU if available)\n",
    "device = torch.device(\"cuda\" if torch.cuda.is_available() else \"cpu\")\n",
    "\n",
    "# Define ResNet-34 Model (Larger than ResNet-18)\n",
    "class ResNet34Classifier(nn.Module):\n",
    "    def __init__(self):\n",
    "        super(ResNet34Classifier, self).__init__()\n",
    "        self.model = models.resnet34(pretrained=True)  # Upgraded from ResNet-18\n",
    "        self.model.fc = nn.Linear(self.model.fc.in_features, 2)  # 2 output classes\n",
    "    \n",
    "    def forward(self, x):\n",
    "        return self.model(x)\n",
    "\n",
    "model = ResNet34Classifier().to(device)"
   ]
  },
   {
    "cell_type": "code",
    "execution_count": null,
    "metadata": {},
    "outputs": [],
    "source": [
      "# Define Focal Loss with class weights\n",
      "class FocalLoss(nn.Module):\n",
      "    def __init__(self, alpha=None, gamma=2, reduction='mean', label_smoothing=0.05):\n",
      "        super(FocalLoss, self).__init__()\n",
      "        self.alpha = torch.tensor(alpha) if alpha is not None else None\n",
      "        self.gamma = gamma\n",
      "        self.reduction = reduction\n",
      "        self.label_smoothing = label_smoothing\n",
      "\n",
      "    def forward(self, inputs, targets):\n",
      "        ce_loss = nn.CrossEntropyLoss(reduction='none', label_smoothing=self.label_smoothing)(inputs, targets)\n",
      "        pt = torch.exp(-ce_loss)\n",
      "        if self.alpha is not None:\n",
      "            alpha_factor = self.alpha.to(inputs.device)[targets]\n",
      "        else:\n",
      "            alpha_factor = 1\n",
      "        focal_loss = alpha_factor * (1 - pt) ** self.gamma * ce_loss\n",
      "        if self.reduction == 'mean':\n",
      "            return focal_loss.mean()\n",
      "        elif self.reduction == 'sum':\n",
      "            return focal_loss.sum()\n",
      "        else:\n",
      "            return focal_loss\n",
      "\n",
      "# Adjusted Class Weights\n",
      "num_lensed = 1730\n",
      "num_nonlensed = 28675\n",
      "total_samples = num_lensed + num_nonlensed\n",
      "\n",
      "weight_lensed = total_samples / (2.5 * num_lensed)\n",
      "weight_nonlensed = total_samples / (2.5 * num_nonlensed)\n",
      "\n",
      "alpha = [weight_nonlensed, weight_lensed]\n",
      "criterion = FocalLoss(alpha=alpha, gamma=1, label_smoothing=0.02).to(device)\n",
      "\n",
      "optimizer = optim.Adam(model.parameters(), lr=5e-4)\n",
      "scheduler = torch.optim.lr_scheduler.StepLR(optimizer, step_size=5, gamma=0.5)"
    ]
  },
  {
    "cell_type": "code",
    "execution_count": null,
    "metadata": {},
    "outputs": [],
    "source": [
      "# MixUp Augmentation\n",
      "def mixup_data(x, y, alpha=0.4):\n",
      "    if alpha > 0:\n",
      "        lam = np.random.beta(alpha, alpha)\n",
      "    else:\n",
      "        lam = 1\n",
      "    batch_size = x.size()[0]\n",
      "    index = torch.randperm(batch_size).to(x.device)\n",
      "    mixed_x = lam * x + (1 - lam) * x[index, :]\n",
      "    y_a, y_b = y, y[index]\n",
      "    return mixed_x, y_a, y_b, lam\n",
      "\n",
      "# Modified Training Loop with MixUp\n",
      "epochs = 10\n",
      "for epoch in range(epochs):\n",
      "    model.train()\n",
      "    running_loss = 0.0\n",
      "    for images, labels in train_loader:\n",
      "        images, labels = images.to(device), labels.to(device)\n",
      "        images, labels_a, labels_b, lam = mixup_data(images, labels)\n",
      "        optimizer.zero_grad()\n",
      "        outputs = model(images)\n",
      "        loss = lam * criterion(outputs, labels_a) + (1 - lam) * criterion(outputs, labels_b)\n",
      "        loss.backward()\n",
      "        optimizer.step()\n",
      "        running_loss += loss.item()\n",
      "    scheduler.step()\n",
      "    print(f\"Epoch {epoch+1}/{epochs}, Loss: {running_loss/len(train_loader):.4f}\")"
    ]
  },
  {
    "cell_type": "code",
    "execution_count": null,
    "metadata": {},
    "outputs": [],
    "source": [
      "# Validation\n",
      "model.eval()\n",
      "val_labels = []\n",
      "val_preds = []\n",
      "with torch.no_grad():\n",
      "    for images, labels in val_loader:\n",
      "        images, labels = images.to(device), labels.to(device)\n",
      "        outputs = model(images)\n",
      "        probs = F.softmax(outputs, dim=1)[:, 1]\n",
      "        val_preds.extend(probs.cpu().numpy())\n",
      "        val_labels.extend(labels.cpu().numpy())\n",
      "\n",
      "roc_auc = roc_auc_score(val_labels, val_preds)\n",
      "print(f\"Validation ROC-AUC: {roc_auc:.4f}\")"
    ]
  },
  {
    "cell_type": "code",
    "execution_count": null,
    "metadata": {},
    "outputs": [],
    "source": [
      "# Test Classification Report\n",
      "test_labels = []\n",
      "test_preds = []\n",
      "with torch.no_grad():\n",
      "    for images, labels in test_loader:\n",
      "        images, labels = images.to(device), labels.to(device)\n",
      "        outputs = model(images)\n",
      "        _, preds = torch.max(outputs, 1)\n",
      "        test_preds.extend(preds.cpu().numpy())\n",
      "        test_labels.extend(labels.cpu().numpy())\n",
      "\n",
      "print(\"Classification Report:\")\n",
      "print(classification_report(test_labels, test_preds))"
    ]
  },
  {
    "cell_type": "code",
    "execution_count": null,
    "metadata": {},
    "outputs": [],
    "source": [
      "# Confusion Matrix\n",
      "from sklearn.metrics import confusion_matrix\n",
      "import seaborn as sns\n",
      "import matplotlib.pyplot as plt\n",
      "\n",
      "cm = confusion_matrix(test_labels, test_preds)\n",
      "\n",
      "plt.figure(figsize=(6, 5))\n",
      "sns.heatmap(cm, annot=True, fmt=\"d\", cmap=\"Blues\", xticklabels=[\"Non-Lensed\", \"Lensed\"], yticklabels=[\"Non-Lensed\", \"Lensed\"])\n",
      "plt.xlabel(\"Predicted Label\")\n",
      "plt.ylabel(\"True Label\")\n",
      "plt.title(\"Confusion Matrix\")\n",
      "plt.show()"
    ]
  },
  {
    "cell_type": "code",
    "execution_count": null,
    "metadata": {},
    "outputs": [],
    "source": [
      "# ROC Curve\n",
      "from sklearn.metrics import roc_curve, roc_auc_score\n",
      "import matplotlib.pyplot as plt\n",
      "\n",
      "val_labels = []\n",
      "val_probs = []\n",
      "model.eval()\n",
      "with torch.no_grad():\n",
      "    for images, labels in val_loader:\n",
      "        images, labels = images.to(device), labels.to(device)\n",
      "        outputs = model(images)\n",
      "        probs = F.softmax(outputs, dim=1)[:, 1]\n",
      "        val_probs.extend(probs.cpu().numpy())\n",
      "        val_labels.extend(labels.cpu().numpy())\n",
      "\n",
      "fpr, tpr, _ = roc_curve(val_labels, val_probs)\n",
      "roc_auc = roc_auc_score(val_labels, val_probs)\n",
      "\n",
      "plt.figure(figsize=(8, 6))\n",
      "plt.plot(fpr, tpr, color=\"blue\", lw=2, label=f\"ROC Curve (AUC = {roc_auc:.4f})\")\n",
      "plt.plot([0, 1], [0, 1], color=\"gray\", linestyle=\"--\")\n",
      "plt.xlim([0.0, 1.0])\n",
      "plt.ylim([0.0, 1.05])\n",
      "plt.xlabel(\"False Positive Rate (FPR)\")\n",
      "plt.ylabel(\"True Positive Rate (TPR)\")\n",
      "plt.title(\"Receiver Operating Characteristic (ROC) Curve\")\n",
      "plt.legend(loc=\"lower right\")\n",
      "plt.grid()\n",
      "plt.show()"
    ]
  },
  {
    "cell_type": "code",
    "execution_count": null,
    "metadata": {},
    "outputs": [],
    "source": [
      "# Save model weights\n",
      "torch.save(model.state_dict(), \"attempt11.pth\")"
    ]
  }
 ],
 "metadata": {
  "kernelspec": {
   "display_name": "myenv",
   "language": "python",
   "name": "python3"
  },
  "language_info": {
   "codemirror_mode": {
    "name": "ipython",
    "version": 3
   },
   "file_extension": ".py",
   "mimetype": "text/x-python",
   "name": "python",
   "nbconvert_exporter": "python",
   "pygments_lexer": "ipython3",
   "version": "3.10.8"
  }
 },
 "nbformat": 4,
 "nbformat_minor": 5
}
